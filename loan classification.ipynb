
import numpy as np # linear algebra
import pandas as pd # data processing, CSV file I/O (e.g. pd.read_csv
import os
for dirname, _, filenames in os.walk('/kaggle/input'):
    for filename in filenames:
        print(os.path.join(dirname, filename))
input/1056lab-ppp-loan-classification/test.csv
input/1056lab-ppp-loan-classification/train.csv
input/1056lab-ppp-loan-classification/sampleSubmission.csv
train_df = pd.read_csv('/kaggle/input/1056lab-ppp-loan-classification/train.csv', index_col=0)
train_df.head()
BusinessName	Address	City	State	Zip	NAICSCode	BusinessType	RaceEthnicity	Gender	Veteran	NonProfit	JobsRetained	DateApproved	Lender	CD	LoanOver1M
ID	
test_df = pd.read_csv('/kaggle/input/1056lab-ppp-loan-classification/test.csv', index_col=0)
test_df.head()
BusinessName	Address	City	State	Zip	NAICSCode	BusinessType	RaceEthnicity	Gender	Veteran	NonProfit	JobsRetained	DateApproved	Lender	CD
ID															
462864	V MAGAZINE, LLC	360 HAMILTON AVE STE 100	WHITE PLAINS	NY	10601.0	511120.0	Limited Liability Company(LLC)	Asian	Male Owned	Non-Veteran	NaN	12.0	04/08/2020	City National Bank	NY - 17
462865	ENGINEERED MONITORING SYSTEMS INC	11290 Trade Center Drive, Suite A	RANCHO CORDOVA	CA	95742.0	334290.0	Corporation	Unanswered	Unanswered	Unanswered	NaN	15.0	04/28/2020	Westamerica Bank	CA - 07
462866	FACT FORWARD	1331 Elmwood Ave	COLUMBIA	SC	29201.0	621410.0	Non-Profit Organization	Unanswered	Unanswered	Unanswered	Y	6.0	04/28/2020	South State Bank, National Association	SC - 06
462867	FREIGHT SAVERS INC	4506 VIOLA PL	YAKIMA	WA	98908.0	999990.0	NaN	Unanswered	Unanswered	Unanswered	NaN	NaN	05/03/2020	Wells Fargo Bank, National Association	WA - 04
462868	EMERGENCY SPECIALTY SERVICES LLC	116 CLOUDSTONE DR	SANTA FE	NM	87505.0	541940.0	Limited Liability Company(LLC)	Unanswered	Unanswered	Unanswered	NaN	1.0	04/29/2020	Bank of America, National Association	NM - 03


Preprocessing OF DATA


df = pd.concat([train_df.drop('LoanOver1M',axis=1), test_df])
df.head()
BusinessName	Address	City	State	Zip	NAICSCode	BusinessType	RaceEthnicity	Gender	Veteran	NonProfit	JobsRetained	DateApproved	Lender	CD
ID															


Count Vectorizing


from sklearn.feature_extraction.text import CountVectorizer

corpus = df['BusinessName'].fillna('').to_numpy()
vectorizer = CountVectorizer(stop_words='english', min_df=0.001)
X = vectorizer.fit_transform(corpus)
bigram_df = pd.DataFrame(X.toarray(), index=df.index, columns=vectorizer.get_feature_names())
bigram_df.head()
7a	academy	acquisition	advanced	advisors	agency	air	alliance	america	american	...	water	welding	west	western	white	wood	works	world	york	young
ID																					
1	0	0	0	0	0	0	0	0	0	0	...	0	0	0	0	0	0	0	0	0	0
2	0	0	0	0	0	0	0	0	0	0	...	0	0	0	0	0	0	0	0	0	0
3	0	0	0	0	0	0	0	0	0	0	...	0	0	0	0	0	0	0	0	0	0
4	0	0	0	0	0	0	0	0	0	0	...	0	0	0	0	0	0	0	0	0	0
5	0	0	0	0	0	0	0	0	0	0	...	0	0	0	0	0	0	0	0	0	0
5 rows × 365 columns

Feature Selecting
df_ = pd.concat([df[['NAICSCode', 'JobsRetained']], bigram_df], axis=1)
df_.head()
NAICSCode	JobsRetained	7a	academy	acquisition	advanced	advisors	agency	air	alliance	...	water	welding	west	western	white	wood	works	world	york	young
ID																					
1	624120.0	375.0	0	0	0	0	0	0	0	0	...	0	0	0	0	0	0	0	0	0	0
2	541990.0	16.0	0	0	0	0	0	0	0	0	...	0	0	0	0	0	0	0	0	0	0
3	541940.0	4.0	0	0	0	0	0	0	0	0	...	0	0	0	0	0	0	0	0	0	0
4	541511.0	17.0	0	0	0	0	0	0	0	0	...	0	0	0	0	0	0	0	0	0	0
5	441110.0	23.0	0	0	0	0	0	0	0	0	...	0	0	0	0	0	0	0	0	0	0
5 rows × 367 columns

Missing Values
df_ = df_.fillna(0)
Training Data and Test Data
nrow, ncol = train_df.shape

X = df_.to_numpy()
X_train = X[:nrow]
y_train = train_df['LoanOver1M'].to_numpy()
X_test = X[nrow:]


Predicting

p_test = fin_lgbm.predict(X_test)
